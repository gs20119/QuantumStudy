{
 "cells": [
  {
   "cell_type": "markdown",
   "id": "a0a349a4-41b6-43ed-8af6-5389883b89d7",
   "metadata": {},
   "source": [
    "# Quantum Measurement Postulates\n",
    "### For class 2025 spring \"Introduction to quantum information and quantum computing\" Seoul National University, Department of Physics and Astronomy Instructor: Dohun Kim "
   ]
  },
  {
   "cell_type": "markdown",
   "id": "bcf4cb9b-7e3a-49f0-9d0d-756fb42eaae3",
   "metadata": {},
   "source": [
    "## Quantum Measurement\n",
    "\n",
    "In this example, we examine if measurement of a real qubit respects the measurement postulate of the quantum mechanics. In the previous examples, we already saw that the measurement of a qubit is consistent with Born rule: probability amplitude squared is probability. Here we examine whether the state after measurement indeed collapses to the measured basis state.  "
   ]
  },
  {
   "cell_type": "markdown",
   "id": "6be8341a-98ba-46d3-965b-113e1f616d11",
   "metadata": {},
   "source": [
    "### Step 1: Create quantum circuit"
   ]
  },
  {
   "cell_type": "code",
   "execution_count": 6,
   "id": "0fc54c40-d878-41f2-a6e9-66c1d75c4320",
   "metadata": {},
   "outputs": [
    {
     "data": {
      "image/png": "[encoded data removed]",
      "text/plain": [
       "<Figure size 1021.56x200.667 with 1 Axes>"
      ]
     },
     "execution_count": 6,
     "metadata": {},
     "output_type": "execute_result"
    }
   ],
   "source": [
    "# loading necessary packages\n",
    "from qiskit.circuit import QuantumRegister, ClassicalRegister, QuantumCircuit, Parameter \n",
    "\n",
    "# Define registers\n",
    "qr = QuantumRegister(1, 'q')\n",
    "cr = ClassicalRegister(5, 'c')\n",
    "qc = QuantumCircuit(qr, cr)\n",
    "\n",
    "# Initialize the qubit to be a mixture of 0 and 1 states.\n",
    "qc.h(0)\n",
    "\n",
    "# Add a first measurement\n",
    "qc.measure(0,0)\n",
    "qc.barrier()\n",
    "\n",
    "# Add a second measurement\n",
    "qc.measure(0,1)\n",
    "qc.barrier()\n",
    "\n",
    "# Add a third measurement\n",
    "qc.measure(0,2)\n",
    "qc.barrier()\n",
    "\n",
    "# Add a fourth measurement\n",
    "qc.measure(0,3)\n",
    "qc.barrier()\n",
    "\n",
    "# Add a fifth measurement\n",
    "qc.measure(0,4)\n",
    "qc.barrier()\n",
    "\n",
    "qc.draw(\"mpl\")"
   ]
  },
  {
   "cell_type": "markdown",
   "id": "836a9077-68e5-4d5b-abf3-c1ae65445c9e",
   "metadata": {},
   "source": [
    "### Step 2: Optimize problem for quantum execution\n",
    "\n",
    "As seen in the previous example, to run our experiment on a real quantum computer, we need to load Qiskit Runtime Service, and select a quantum computer (or a \"backend\"). Below, we simply select the least busy quantum computer available to us."
   ]
  },
  {
   "cell_type": "code",
   "execution_count": 7,
   "id": "1aa7147f-a20c-4edc-8d4f-9c6cd44932cd",
   "metadata": {},
   "outputs": [
    {
     "name": "stdout",
     "output_type": "stream",
     "text": [
      "ibm_kyiv\n"
     ]
    }
   ],
   "source": [
    "# Load the Qiskit Runtime service\n",
    "from qiskit_ibm_runtime import QiskitRuntimeService #Import necessary packages\n",
    "token = \"\"\n",
    "service = QiskitRuntimeService(channel=\"ibm_quantum\", token=token) \n",
    "\n",
    "# Use the least busy backend\n",
    "backend = service.least_busy(\n",
    "    operational=True, simulator=False, min_num_qubits = 1)\n",
    "print(backend.name)"
   ]
  },
  {
   "cell_type": "markdown",
   "id": "638c96af-8b06-4a2e-a907-428cff17569a",
   "metadata": {},
   "source": [
    "We now must transpile the circuit, meaning we must map our circuit onto the base gates available to our chosen quantum computer, and we want to optimize our circuit for running on that quantum computer."
   ]
  },
  {
   "cell_type": "code",
   "execution_count": 8,
   "id": "445a1553-fea9-4579-8598-dea974363e2b",
   "metadata": {},
   "outputs": [],
   "source": [
    "# Transpile the circuit and optimize for running on the quantum computer selected\n",
    "from qiskit.transpiler.preset_passmanagers import generate_preset_pass_manager\n",
    "pm = generate_preset_pass_manager(optimization_level=3, backend=backend)\n",
    "qc_ibm = pm.run(qc)"
   ]
  },
  {
   "cell_type": "markdown",
   "id": "f8531869-8445-4a73-b8c8-4fb8c05899b7",
   "metadata": {},
   "source": [
    "### Step 3: Execute using Qiskit Runtime Primitives\n",
    "\n",
    "Now we want to run this on a real quantum computer. All the necessary syntax for that is in the code block below."
   ]
  },
  {
   "cell_type": "code",
   "execution_count": null,
   "id": "8a90756d-7046-4448-995a-4131e86b23f4",
   "metadata": {},
   "outputs": [],
   "source": [
    "# Specify that we want to use only a single shot, to represent a single measurement of a spin in a SG device.\n",
    "num_shots = 1\n",
    "\n",
    "# Load the Runtime primitive and session\n",
    "from qiskit_ibm_runtime import Options, Session, SamplerV2 as Sampler\n",
    "\n",
    "# Evaluate the problem using a QPU via Qiskit IBM Runtime\n",
    "with Session(backend) as session:\n",
    "    sampler = Sampler(mode = session)\n",
    "    dist = sampler.run([qc_ibm], shots = num_shots).result()\n",
    "session.close()\n",
    "counts = dist[0].data.c.get_counts()"
   ]
  },
  {
   "cell_type": "markdown",
   "id": "5871d0f2-be46-4a46-a40b-ed5289bdc69c",
   "metadata": {},
   "source": [
    "If you have exhausted your allotted time on real quantum computers, or if you are without an internet connection, you can use the next code block, which will run the code on a local simulator."
   ]
  },
  {
   "cell_type": "code",
   "execution_count": 22,
   "id": "e71e886b-56d4-438e-b3c6-149c8d4a21e2",
   "metadata": {},
   "outputs": [],
   "source": [
    "# This uses a local simulator\n",
    "from qiskit_aer import AerSimulator\n",
    "\n",
    "# This generates a simulator that mimics the real quantum system\n",
    "backend_sim = AerSimulator.from_backend(backend)\n",
    "\n",
    "# Import an estimator for local simulator from qiskit\n",
    "from qiskit.primitives import BackendSamplerV2\n",
    "sampler = BackendSamplerV2(backend = backend_sim)\n",
    "num_shots = 1000\n",
    "\n",
    "# This runs the job and retrieves the measurement count number from each circuit\n",
    "dist = sampler.run([qc_ibm], shots = num_shots).result()[0]\n",
    "counts_raw = dist.data.c.get_counts()\n",
    "from qiskit.result import QuasiDistribution\n",
    "counts = QuasiDistribution({outcome: freq / num_shots for outcome, freq in counts_raw.items()})"
   ]
  },
  {
   "cell_type": "code",
   "execution_count": 18,
   "id": "70d4a9f5-df61-474e-8359-dd232b7fc871",
   "metadata": {},
   "outputs": [
    {
     "data": {
      "text/plain": [
       "{0: 0.49, 31: 0.501, 8: 0.003, 1: 0.004, 2: 0.001, 16: 0.001}"
      ]
     },
     "execution_count": 18,
     "metadata": {},
     "output_type": "execute_result"
    }
   ],
   "source": [
    "counts"
   ]
  },
  {
   "cell_type": "markdown",
   "id": "f16f7bee-7a02-45bf-b5f2-a3960c14966f",
   "metadata": {},
   "source": [
    "### Step 4: Post-processing and classical analysis\n",
    "\n",
    "For this very simple experiment, classical analysis just consists of visualizing the experimental outcome."
   ]
  },
  {
   "cell_type": "code",
   "execution_count": 20,
   "id": "8ccb2f29-40b0-4959-8785-85b77b74dff3",
   "metadata": {},
   "outputs": [
    {
     "data": {
      "image/png": "[encoded data removed]",
      "text/plain": [
       "<Figure size 640x480 with 1 Axes>"
      ]
     },
     "execution_count": 20,
     "metadata": {},
     "output_type": "execute_result"
    }
   ],
   "source": [
    "from qiskit.visualization import plot_histogram\n",
    "plot_histogram(counts.binary_probabilities())"
   ]
  },
  {
   "cell_type": "markdown",
   "id": "51f97d72-b152-4527-8e42-c066cec33524",
   "metadata": {},
   "source": [
    "#### Discussions:\n",
    "<details>\n",
    "<summary>\n",
    "Examine whether successive measurement, after the first measurement, is as expected from the measurement postulate.\n",
    "\n",
    "<details>\n",
    "<summary>\n",
    "Explain reasons for having small but non-zero unexpected results. "
   ]
  }
 ],
 "metadata": {
  "kernelspec": {
   "display_name": "Python 3 (ipykernel)",
   "language": "python",
   "name": "python3"
  },
  "language_info": {
   "codemirror_mode": {
    "name": "ipython",
    "version": 3
   },
   "file_extension": ".py",
   "mimetype": "text/x-python",
   "name": "python",
   "nbconvert_exporter": "python",
   "pygments_lexer": "ipython3",
   "version": "3.12.7"
  }
 },
 "nbformat": 4,
 "nbformat_minor": 5
}
