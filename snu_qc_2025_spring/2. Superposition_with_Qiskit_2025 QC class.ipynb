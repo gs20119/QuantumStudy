{
 "cells": [
  {
   "cell_type": "markdown",
   "id": "a0a349a4-41b6-43ed-8af6-5389883b89d7",
   "metadata": {},
   "source": [
    "# Quantum Superposition vs. Mixture: a module rephrased from the IBM classroom module \"Quantum Coin\" - also serve as quick intro to Qiskit\n",
    "### For class 2025 spring \"Introduction to quantum information and quantum computing\" Seoul National University, Department of Physics and Astronomy Instructor: Dohun Kim \n",
    "\n",
    "### For maximizing students' Qiskit programming capability, we intentionally try to use the real backend even though sometimes running on a simulator is simpler. "
   ]
  },
  {
   "cell_type": "markdown",
   "id": "bcf4cb9b-7e3a-49f0-9d0d-756fb42eaae3",
   "metadata": {},
   "source": [
    "## Classical mixture\n",
    "\n",
    "Let's start with a statistical mixture of spin up and spin down (with respect to an externally applied magnetic field - say z-direction) as an example of *classical probabilistic state*, where the outcome is essentially random. Using a IBM QC backend, we randomly prepare 0 or 1 as initial state and measure in z-basis (some terminologies may not be discussed at this stage of the class, but it's okay. We will learn them later.  \n",
    "$$|\\uparrow\\rangle \\sim |0\\rangle$$\n",
    "$$|\\downarrow \\rangle \\sim |1\\rangle$$"
   ]
  },
  {
   "cell_type": "markdown",
   "id": "6be8341a-98ba-46d3-965b-113e1f616d11",
   "metadata": {},
   "source": [
    "### Step 1: Create quantum circuit"
   ]
  },
  {
   "cell_type": "code",
   "execution_count": 39,
   "id": "0fc54c40-d878-41f2-a6e9-66c1d75c4320",
   "metadata": {},
   "outputs": [
    {
     "data": {
      "image/png": "[encoded data removed]",
      "text/plain": [
       "<Figure size 352.675x200.667 with 1 Axes>"
      ]
     },
     "execution_count": 39,
     "metadata": {},
     "output_type": "execute_result"
    }
   ],
   "source": [
    "# Loading necessary packages\n",
    "import math, random\n",
    "from qiskit.circuit import QuantumRegister, ClassicalRegister, QuantumCircuit, Parameter\n",
    "\n",
    "# Define registers\n",
    "qr = QuantumRegister(1, 'q')  # QuantumRegister(Size or no. of qubits in the circuit, 'q': Name of the qubit)  \n",
    "cr = ClassicalRegister(1, 'c') # Classical register for storing measurement result\n",
    "qc = QuantumCircuit(qr, cr) # Generate a quantum circuit with specified quantum and classical bits \n",
    "\n",
    "# Initialize the quantum state\n",
    "a = random.random()\n",
    "b = math.sqrt(1.0-a**2)\n",
    "\n",
    "# Initialize qubit with specified probability amplitues a and b (a for basis state 0 and b for 1; here they are randomized such that their sum is 1)\n",
    "qc.initialize([a, b]) # 0th qubit = a|0> + b|1>\n",
    "\n",
    "# measure(0, 0) means measure the first qubit (we count from 0) and store the result in the first classical bit. Here measurement is done along z-direction (usually called computational basis)\n",
    "qc.measure(0, 0) # measure 0th qubit and record to 0th cbit\n",
    "\n",
    "# Function to draw circuit - mp1 returns a matplotlib figure object\n",
    "qc.draw('mpl')"
   ]
  },
  {
   "cell_type": "markdown",
   "id": "836a9077-68e5-4d5b-abf3-c1ae65445c9e",
   "metadata": {},
   "source": [
    "### Step 2: Optimize problem for quantum execution\n",
    "\n",
    "To run our experiment on a real quantum computer, we need to load Qiskit Runtime Service, and select a quantum computer (or a \"backend\"). Below, we simply select the least busy quantum computer available provided by IBM to us."
   ]
  },
  {
   "cell_type": "code",
   "execution_count": 47,
   "id": "1aa7147f-a20c-4edc-8d4f-9c6cd44932cd",
   "metadata": {},
   "outputs": [
    {
     "name": "stdout",
     "output_type": "stream",
     "text": [
      "ibm_sherbrooke\n"
     ]
    }
   ],
   "source": [
    "# Load the Qiskit Runtime service\n",
    "from qiskit_ibm_runtime import QiskitRuntimeService # Loading necessary packages\n",
    "token = \"\"\n",
    "service = QiskitRuntimeService(channel=\"ibm_quantum\", token=token)\n",
    "\n",
    "# Use the least busy backend\n",
    "backend = service.least_busy(\n",
    "    operational=True, simulator=False, min_num_qubits = 1)\n",
    "print(backend.name)"
   ]
  },
  {
   "cell_type": "markdown",
   "id": "638c96af-8b06-4a2e-a907-428cff17569a",
   "metadata": {},
   "source": [
    "We now must transpile the circuit, meaning we must map our circuit onto the base gates available to our chosen quantum computer, and we want to optimize our circuit for running on that quantum computer. \n",
    "\n",
    "This optimization process goes through a few rewriting steps to reduce the effects caused by noise on the outcomes. For more details on this process, visit https://docs.quantum.ibm.com/api/qiskit/transpiler."
   ]
  },
  {
   "cell_type": "code",
   "execution_count": 48,
   "id": "445a1553-fea9-4579-8598-dea974363e2b",
   "metadata": {},
   "outputs": [],
   "source": [
    "# Transpile the circuit and optimize for running on the quantum computer selected\n",
    "from qiskit.transpiler.preset_passmanagers import generate_preset_pass_manager\n",
    "pm = generate_preset_pass_manager(optimization_level = 3, backend = backend) # Higher optimization_level generates more optimized circuits; 3 is the heaviest level of optimization, but takes the longest transpilation time. \n",
    "qc_ibm = pm.run(qc)"
   ]
  },
  {
   "cell_type": "markdown",
   "id": "f8531869-8445-4a73-b8c8-4fb8c05899b7",
   "metadata": {},
   "source": [
    "### Step 3: Execute using Qiskit Runtime Primitives\n",
    "\n",
    "Now we want to run this on a real quantum computer. All the necessary syntax for that is in the code block below."
   ]
  },
  {
   "cell_type": "code",
   "execution_count": 35,
   "id": "5699a3be-afe6-492e-b6f6-2c9c57216c69",
   "metadata": {},
   "outputs": [],
   "source": [
    "# This runs on the real quantum computer\n",
    "# Specify that we want to use only a single shot, to represent a single measurement of a spin in a SG device.\n",
    "num_shots = 1\n",
    "\n",
    "# Load the Runtime primitive and session\n",
    "from qiskit_ibm_runtime import Options, Session, SamplerV2 as Sampler\n",
    "\n",
    "# Evaluate the problem using a QPU via Qiskit IBM Runtime\n",
    "with Session(backend) as session:\n",
    "    sampler = Sampler(mode = session)\n",
    "    dist = sampler.run([qc_ibm], shots = num_shots).result()\n",
    "session.close()\n",
    "counts=dist[0].data.c.get_counts()"
   ]
  },
  {
   "cell_type": "markdown",
   "id": "cbdb96cc-f1e4-403b-aae5-f5ed2d8a6f9b",
   "metadata": {},
   "source": [
    "If you have exhausted your allotted time on real quantum computers, or if you are without an internet connection, you can use the next code block, which will run the code on a local simulator. \n",
    "\n",
    "**The code block above is for running on a real QPU, and the code block below simulates in your local computer, mimicing the quantum system above. Both code blocks should return similar results.**"
   ]
  },
  {
   "cell_type": "code",
   "execution_count": 49,
   "id": "b9ad6721-3343-4c58-8838-06499d97a75b",
   "metadata": {},
   "outputs": [],
   "source": [
    "# This uses a local simulator for real backend\n",
    "from qiskit_aer import AerSimulator\n",
    "\n",
    "# This generates a simulator that mimics the real quantum system\n",
    "backend_sim = AerSimulator.from_backend(backend)\n",
    "\n",
    "# Import a sampler primitive from qiskit manually \n",
    "from qiskit.primitives import BackendSamplerV2\n",
    "sampler = BackendSamplerV2(backend = backend_sim)\n",
    "num_shots = 10000\n",
    "\n",
    "# This runs the job\n",
    "dist = sampler.run([qc_ibm], shots = num_shots).result()[0]\n",
    "\n",
    "# This selects measurement counts for the 0th circuit, which in this case is the only circuit\n",
    "counts_raw = dist.data.c.get_counts()\n",
    "\n",
    "from qiskit.result import QuasiDistribution\n",
    "counts = QuasiDistribution({outcome: freq / num_shots for outcome, freq in counts_raw.items()})"
   ]
  },
  {
   "cell_type": "markdown",
   "id": "f16f7bee-7a02-45bf-b5f2-a3960c14966f",
   "metadata": {},
   "source": [
    "### Step 4: Post-processing and classical analysis\n",
    "\n",
    "For this very simple experiment, classical analysis just consists of visualizing the experimental outcome."
   ]
  },
  {
   "cell_type": "code",
   "execution_count": 50,
   "id": "8ccb2f29-40b0-4959-8785-85b77b74dff3",
   "metadata": {},
   "outputs": [
    {
     "name": "stdout",
     "output_type": "stream",
     "text": [
      "counts =  {0: 0.7888, 1: 0.2112}\n"
     ]
    },
    {
     "data": {
      "image/png": "[encoded data removed]",
      "text/plain": [
       "<Figure size 640x480 with 1 Axes>"
      ]
     },
     "execution_count": 50,
     "metadata": {},
     "output_type": "execute_result"
    }
   ],
   "source": [
    "print(\"counts = \", counts)\n",
    "\n",
    "from qiskit.visualization import plot_histogram\n",
    "plot_histogram(counts)"
   ]
  },
  {
   "cell_type": "markdown",
   "id": "6f9efb79-374c-40e5-aebd-d12998721184",
   "metadata": {},
   "source": [
    "From this example, it is evident that if we repeat the steps, we will get probability 0.5 for state 0 and 0.5 for state 1. "
   ]
  },
  {
   "cell_type": "markdown",
   "id": "6f2bc32b-cb77-40fc-849a-e1b9de46b813",
   "metadata": {},
   "source": [
    "\n",
    "## Quantum coin\n",
    "\n",
    "We can create a similar probabilistic state using a qubit on our quantum computer. Like the coin flip, a qubit also can be measured in two possible states: $|0\\rangle$ and $|1\\rangle$. We create the probabilistic, \"superposition\" state by starting in the state $|0\\rangle$, and then applying something called a Hadamard gate to the qubit. This puts it in an equal superposition of $|0\\rangle$ and $|1\\rangle$. Note that while this superposition state may look and behave like the coin at first blush, we will soon see that there is much more to it than that. The point of this module is to show you that a superposition is not the same as a classical coin flip.\n",
    "\n",
    "So, since the qubit is in an equal superposition of 0 and 1, when we measure the qubit, there will be a 50% chance we measure $|0\\rangle$, 50% chance we measure $|1\\rangle$. We write this state a little differently from the classical probabilistic case, for reasons that will become clear later:\n",
    "\n",
    "$|\\psi\\rangle = \\frac{1}{\\sqrt{2}} |0\\rangle + \\frac{1}{\\sqrt{2}} |1\\rangle$\n",
    "\n",
    "Here, the probabilities of measuring each of the two states are **no longer** equal to the coefficients, as was the case in the classical probabilistic state above. Instead, it is the **square** of the coefficients that gives us the probabilities, and each of these coefficients can now be complex, meaning they can have both real and imaginary parts. \n",
    "\n",
    "Despite these differences, though, the outcome of measuring this state is essentially the same as flipping a coin. \n",
    "\n"
   ]
  },
  {
   "cell_type": "code",
   "execution_count": 54,
   "id": "57f4c8c7-5524-4fcb-a37f-60a2c10bfa9b",
   "metadata": {},
   "outputs": [
    {
     "data": {
      "image/png": "[encoded data removed]",
      "text/plain": [
       "<Figure size 413.165x200.667 with 1 Axes>"
      ]
     },
     "execution_count": 54,
     "metadata": {},
     "output_type": "execute_result"
    }
   ],
   "source": [
    "qcoin = QuantumCircuit(1)\n",
    "qcoin.h(0)\n",
    "qcoin.measure_all()\n",
    "\n",
    "qcoin.draw('mpl')"
   ]
  },
  {
   "cell_type": "code",
   "execution_count": 67,
   "id": "c982216b-5582-44d7-b10e-b6c4dd7db655",
   "metadata": {},
   "outputs": [
    {
     "name": "stdout",
     "output_type": "stream",
     "text": [
      "ibm_sherbrooke\n",
      "('init', 'layout', 'routing', 'translation', 'optimization', 'scheduling')\n"
     ]
    }
   ],
   "source": [
    "# Use the least busy backend\n",
    "backend = service.least_busy(operational=True, simulator=False, min_num_qubits=1)\n",
    "print(backend.name)\n",
    "\n",
    "#Transpile the circuit and optimize for running on the quantum computer selected\n",
    "pm = generate_preset_pass_manager(optimization_level = 3, backend = backend)\n",
    "qc_ibm = pm.run(qcoin)"
   ]
  },
  {
   "cell_type": "markdown",
   "id": "286f964c-08fb-4df7-be8c-b3c6eebdf8da",
   "metadata": {},
   "source": [
    "So, in effect, applying the Hadamard gate is the analogue to flipping a coin. And just like flipping a 100 times to look at the statistics of the coin landing heads up or down, we can do something similar on Qiskit with our “quantum coin.\" We can use a Qiskit primitive called `Sampler` which will repeat a circuit several times to sample the statistics of the resulting state. With 100 samples of the circuit above, we have something that looks basically identical to the classical coin histogram, up to some statistical fluctuation."
   ]
  },
  {
   "cell_type": "code",
   "execution_count": null,
   "id": "52dc6904-a275-4b63-a233-aab34da3e6aa",
   "metadata": {},
   "outputs": [],
   "source": [
    "# Specify that we want to use only a single shot, to represent a single measurement of a spin in a SG device.\n",
    "num_shots = 100\n",
    "\n",
    "# Evaluate the problem using a QPU via Qiskit IBM Runtime\n",
    "with Session(backend) as session:\n",
    "    sampler = Sampler(mode = session)\n",
    "    dist = sampler.run([qc_ibm], shots = num_shots).result()\n",
    "session.close()\n",
    "counts=dist[0].data.meas.get_counts()"
   ]
  },
  {
   "cell_type": "markdown",
   "id": "2f98b22b-92a4-4010-96c8-6a73217c6828",
   "metadata": {},
   "source": [
    "Again, for a local simulator, run the code in the next block."
   ]
  },
  {
   "cell_type": "code",
   "execution_count": null,
   "id": "634fb53f-944c-4c2c-9e98-357acd0281aa",
   "metadata": {},
   "outputs": [
    {
     "name": "stdout",
     "output_type": "stream",
     "text": [
      "counts =  {0: 0.52, 1: 0.48}\n"
     ]
    },
    {
     "data": {
      "image/png": "[encoded data removed]",
      "text/plain": [
       "<Figure size 640x480 with 1 Axes>"
      ]
     },
     "execution_count": 58,
     "metadata": {},
     "output_type": "execute_result"
    }
   ],
   "source": [
    "# Use Aer backend simulator\n",
    "backend_sim = AerSimulator.from_backend(backend)\n",
    "sampler = BackendSamplerV2(backend = backend_sim)\n",
    "\n",
    "# This runs the job\n",
    "dist = sampler.run([qc_ibm], shots = num_shots).result()[0]\n",
    "\n",
    "# This selects measurement counts for the 0th circuit, which in this case is the only circuit\n",
    "counts_raw = dist.data.meas.get_counts()\n",
    "counts = QuasiDistribution({outcome: freq / num_shots for outcome, freq in counts_raw.items()})\n",
    "\n",
    "print(\"counts = \", counts)\n",
    "plot_histogram(counts)"
   ]
  },
  {
   "cell_type": "markdown",
   "id": "7d10d957-2e8d-4c63-b4a4-7744b9e1a0e9",
   "metadata": {},
   "source": [
    "## The quantum revealed: an experiment in three dimensions\n",
    "\n",
    "So far we have only considered measuring spin in z-direction. The difference between quantum superposition and a classical mixture is revealed when we do measurement in other directions; we shall conduct measurement in the x-direction in the following section."
   ]
  },
  {
   "cell_type": "code",
   "execution_count": 65,
   "id": "2cc7a79f-527c-4af1-a207-06cfa20ac92c",
   "metadata": {},
   "outputs": [
    {
     "data": {
      "image/png": "[encoded data removed]",
      "text/plain": [
       "<Figure size 496.776x200.667 with 1 Axes>"
      ]
     },
     "execution_count": 65,
     "metadata": {},
     "output_type": "execute_result"
    }
   ],
   "source": [
    "qcoin = QuantumCircuit(1)\n",
    "qcoin.h(0)\n",
    "qcoin.h(0)\n",
    "qcoin.measure_all()\n",
    "\n",
    "qcoin.draw('mpl')"
   ]
  },
  {
   "cell_type": "code",
   "execution_count": null,
   "id": "1cb1075a-41b2-4d33-8ef1-edd49bc5cb6a",
   "metadata": {},
   "outputs": [
    {
     "name": "stdout",
     "output_type": "stream",
     "text": [
      "ibm_sherbrooke\n"
     ]
    }
   ],
   "source": [
    "# Use the least busy backend\n",
    "backend = service.least_busy(operational=True, simulator=False, min_num_qubits=1)\n",
    "print(backend.name)\n",
    "\n",
    "#Transpile the circuit and optimize for running on the quantum computer selected\n",
    "pm = generate_preset_pass_manager(optimization_level = 3, backend = backend)\n",
    "qc_ibm = pm.run(qcoin)"
   ]
  },
  {
   "cell_type": "code",
   "execution_count": 69,
   "id": "1d79c002-035f-4af8-ab0a-96cfb0b8fbfc",
   "metadata": {},
   "outputs": [],
   "source": [
    "# Specify that we want to use 100 shots, to represent 100 measurements of a spin in a SG device.\n",
    "num_shots = 100\n",
    "\n",
    "# Evaluate the problem using a QPU via Qiskit IBM Runtime\n",
    "with Session(backend) as session:\n",
    "    sampler = Sampler(mode = session)\n",
    "    dist = sampler.run([qc_ibm], shots = num_shots).result()\n",
    "session.close()\n",
    "counts=dist[0].data.meas.get_counts()"
   ]
  },
  {
   "cell_type": "code",
   "execution_count": 66,
   "id": "954237a8-dadb-49b6-a1ed-f75a478c6834",
   "metadata": {},
   "outputs": [
    {
     "name": "stdout",
     "output_type": "stream",
     "text": [
      "counts =  {0: 1.0}\n"
     ]
    },
    {
     "data": {
      "image/png": "[encoded data removed]",
      "text/plain": [
       "<Figure size 640x480 with 1 Axes>"
      ]
     },
     "execution_count": 66,
     "metadata": {},
     "output_type": "execute_result"
    }
   ],
   "source": [
    "# Use Aer backend simulator\n",
    "backend_sim = AerSimulator.from_backend(backend)\n",
    "sampler = BackendSamplerV2(backend = backend_sim)\n",
    "\n",
    "# This runs the job\n",
    "dist = sampler.run([qc_ibm], shots = num_shots).result()[0]\n",
    "\n",
    "# This selects measurement counts for the 0th circuit, which in this case is the only circuit\n",
    "counts_raw = dist.data.meas.get_counts()\n",
    "counts = QuasiDistribution({outcome: freq / num_shots for outcome, freq in counts_raw.items()})\n",
    "\n",
    "print(\"counts = \", counts)\n",
    "plot_histogram(counts)"
   ]
  },
  {
   "cell_type": "markdown",
   "id": "51f97d72-b152-4527-8e42-c066cec33524",
   "metadata": {},
   "source": [
    "Point 1: We may interprete the circuit as the following. We first prepare superposition state and ask whether it is parallel (0) or antiparallel (1) to x direction.  \n",
    "Point 2: The result here is not random. We are sure that the state is in parallel to x direction.\n",
    "\n",
    "#### Discussions:\n",
    "<details>\n",
    "<summary>\n",
    "What happens when we do x measurement on statistical mixture given above ?\n",
    "\n",
    "<details>\n",
    "<summary>\n",
    "What would be the result when we perform repeated y-direction measurement on the superposition state given above ?\n",
    "\n",
    "<details>\n",
    "<summary>\n",
    "In the class, I explained that the quantum superposition state has coherence : system's capability to exhibit interference. And indeed this coherence made it possible to distinguish superposition state from statistical mixture. Where is interference in this example ?\n",
    "\n",
    "<details>\n",
    "<summary>\n",
    "In fact, the collection of measurement results in all directions constitutes quantum state tomography (mostl simply in this case, a single qubit state tomography). We will learn more about state tomography in later chapters. \n",
    "    "
   ]
  }
 ],
 "metadata": {
  "kernelspec": {
   "display_name": ".venv",
   "language": "python",
   "name": "python3"
  },
  "language_info": {
   "codemirror_mode": {
    "name": "ipython",
    "version": 3
   },
   "file_extension": ".py",
   "mimetype": "text/x-python",
   "name": "python",
   "nbconvert_exporter": "python",
   "pygments_lexer": "ipython3",
   "version": "3.12.3"
  }
 },
 "nbformat": 4,
 "nbformat_minor": 5
}
